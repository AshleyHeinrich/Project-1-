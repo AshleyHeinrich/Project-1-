{
  "nbformat": 4,
  "nbformat_minor": 0,
  "metadata": {
    "colab": {
      "provenance": [],
      "authorship_tag": "ABX9TyN1G9xZpuGFI+xYQHYm50Ym",
      "include_colab_link": true
    },
    "kernelspec": {
      "name": "python3",
      "display_name": "Python 3"
    },
    "language_info": {
      "name": "python"
    }
  },
  "cells": [
    {
      "cell_type": "markdown",
      "metadata": {
        "id": "view-in-github",
        "colab_type": "text"
      },
      "source": [
        "<a href=\"https://colab.research.google.com/github/AshleyHeinrich/Sales-Predictions/blob/main/Project_1_Sales_Predictions.ipynb\" target=\"_parent\"><img src=\"https://colab.research.google.com/assets/colab-badge.svg\" alt=\"Open In Colab\"/></a>"
      ]
    },
    {
      "cell_type": "markdown",
      "source": [
        "#Project 1 - Part 1\n",
        " Ashley Heinrich"
      ],
      "metadata": {
        "id": "T27U0JeaoPbP"
      }
    },
    {
      "cell_type": "code",
      "source": [],
      "metadata": {
        "id": "CheYmaYnofVo"
      },
      "execution_count": null,
      "outputs": []
    },
    {
      "cell_type": "markdown",
      "source": [
        "## Loading Data"
      ],
      "metadata": {
        "id": "4p0zR98wogPM"
      }
    },
    {
      "cell_type": "code",
      "source": [],
      "metadata": {
        "id": "EM_saW9xoj5Q"
      },
      "execution_count": null,
      "outputs": []
    },
    {
      "cell_type": "markdown",
      "source": [
        "## Data Cleaning"
      ],
      "metadata": {
        "id": "9NPYFr1uokzl"
      }
    },
    {
      "cell_type": "code",
      "source": [],
      "metadata": {
        "id": "kxW9RRYFonCQ"
      },
      "execution_count": null,
      "outputs": []
    },
    {
      "cell_type": "markdown",
      "source": [
        "## Exploratory Visuals"
      ],
      "metadata": {
        "id": "5mW5W9ItonTR"
      }
    },
    {
      "cell_type": "code",
      "source": [],
      "metadata": {
        "id": "PCAGtGoeordq"
      },
      "execution_count": null,
      "outputs": []
    },
    {
      "cell_type": "markdown",
      "source": [
        "## Explanatory Visuals"
      ],
      "metadata": {
        "id": "KcfScIT_orpk"
      }
    },
    {
      "cell_type": "code",
      "source": [],
      "metadata": {
        "id": "79l4axLlovIE"
      },
      "execution_count": null,
      "outputs": []
    }
  ]
}